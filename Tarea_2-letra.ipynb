{
 "cells": [
  {
   "cell_type": "markdown",
   "metadata": {},
   "source": [
    "# Tarea 2 - Taller de Deep Learning\n",
    "\n",
    "**Fecha de entrega: 16/11/2025**  \n",
    "**Puntaje máximo: 15**\n",
    "\n",
    "## Introducción\n",
    "\n",
    "El objetivo de esta tarea es evaluar su capacidad para aplicar modelos de redes neuronales recurrentes (RNN/LSTM/GRU) en un problema de clasificación de secuencias. En particular, vamos a evaluar la performance de sus modelos en la clasificación de ritmos cardíacos usando datos de electrocardiograma (ECG).\n",
    "\n",
    "**Dataset**\n",
    "\n",
    "El dataset a ser utilizado es el [Heartbeat Dataset](https://www.kaggle.com/datasets/shayanfazeli/heartbeat). Este dataset contiene señales de ECG segmentadas, donde cada segmento corresponde a un latido del corazón. Cada segmento ya está preprocesado y categorizado en una de las siguientes clases:\n",
    "\n",
    "- **N**: Normal (0)\n",
    "- **S**: Arritmia supraventricular (1)\n",
    "- **V**: Arritmia ventricular (2)\n",
    "- **F**: Latido fusionado (3)\n",
    "- **Q**: Latido desconocido (4)\n",
    "\n",
    "Los archivos del dataset que deben utilizar son:\n",
    "\n",
    "- **mitbih_train.csv**: Datos de entrenamiento.\n",
    "- **mitbih_test.csv**: Datos de prueba.\n",
    "\n",
    "**Tarea**\n",
    "\n",
    "Tienen total libertad sobre cómo implementar y resolver el problema, así como las técnicas y herramientas que quieran usar. Se recomienda el uso de Google Colab para simplificar el acceso a recursos de GPU, aunque pueden trabajar en sus propias máquinas si lo prefieren. La entrega debe realizarse en formato .ipynb (Jupyter Notebook) **con las celdas ya ejecutadas**.\n",
    "\n",
    "**Restricciones**\n",
    "\n",
    "- No se permite utilizar modelos pre-entrenados; cada modelo debe ser implementado desde cero.\n",
    "- Deben utilizar al menos un modelo basado en RNN (por ejemplo, LSTM o GRU).\n",
    "- Es necesario realizar un **análisis exploratorio de los datos**, que incluya una descripción de las señales ECG, el balanceo de clases y cualquier limpieza o transformación necesaria de los datos.\n",
    "- Las decisiones sobre el preprocesamiento de las señales (como normalización, segmentación, etc.) deben estar fundamentadas en una exploración inicial del dataset y explicadas en el notebook.\n",
    "\n",
    "**Reporte**\n",
    "\n",
    "Se requiere que reporten las siguientes métricas: accuracy, precision, recall y F1-score para la evaluación del modelo. Además, se espera ver una evolución clara del modelo durante el entrenamiento, que incluya logs y gráficas de las métricas tanto para los datos de entrenamiento como de validación.\n",
    "\n",
    "**Evidencia de Experimentos**\n",
    "\n",
    "Deben proporcionar evidencia de la ejecución de experimentos usando [Weights & Biases (wandb)](https://wandb.ai/). Esto incluye:\n",
    "\n",
    "- Registros detallados de los experimentos.\n",
    "- Gráficas y logs de entrenamiento.\n",
    "- Comparaciones entre diferentes configuraciones de modelos."
   ]
  }
 ],
 "metadata": {
  "language_info": {
   "name": "python"
  }
 },
 "nbformat": 4,
 "nbformat_minor": 2
}
